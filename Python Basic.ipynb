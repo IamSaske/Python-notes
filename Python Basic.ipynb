{
 "cells": [
  {
   "cell_type": "markdown",
   "id": "43f80210",
   "metadata": {},
   "source": [
    "# PYTHON BASIC RKT"
   ]
  },
  {
   "cell_type": "markdown",
   "id": "dd7c98e0",
   "metadata": {},
   "source": [
    "## Python Data Types\n",
    "\n",
    ">int--integer\n",
    "\n",
    ">float-whole number includes decimal also\n",
    "\n",
    ">string-values in \"\" considered as string\n",
    "\n",
    ">Boolean- True/False\n",
    "\n",
    "### Complex\n",
    "\n",
    ">As we know the complex number is a+bj\n",
    "\n",
    ">2+3j such syntax is considered as complex number"
   ]
  },
  {
   "cell_type": "code",
   "execution_count": 1,
   "id": "a0f4c349",
   "metadata": {},
   "outputs": [
    {
     "name": "stdout",
     "output_type": "stream",
     "text": [
      "<class 'complex'>\n"
     ]
    }
   ],
   "source": [
    "print(type(2+4j))"
   ]
  },
  {
   "cell_type": "markdown",
   "id": "1e3a2e3a",
   "metadata": {},
   "source": [
    "## Print()\n",
    "\n",
    ">print('saske is best') will print saske is best\n",
    "\n",
    "## Input()\n",
    "\n",
    ">input() keyword is use to take inputs\n",
    "\n",
    ">Python take input in string\n",
    "\n",
    ">To take it in number use int(input())\n",
    "\n",
    "### Syntax\n",
    "\n",
    ">print('enter a number')\n",
    "\n",
    ">input()----will take input from string\n",
    "\n",
    "### Another way\n",
    "\n",
    ">input('enter a number')\n",
    "\n"
   ]
  },
  {
   "cell_type": "code",
   "execution_count": 2,
   "id": "754217db",
   "metadata": {},
   "outputs": [
    {
     "name": "stdout",
     "output_type": "stream",
     "text": [
      "Saske is the best ninja\n"
     ]
    }
   ],
   "source": [
    "print(\"Saske is the best\",end=' ')\n",
    "print('ninja')"
   ]
  },
  {
   "cell_type": "code",
   "execution_count": 3,
   "id": "306650ff",
   "metadata": {},
   "outputs": [
    {
     "name": "stdout",
     "output_type": "stream",
     "text": [
      "enter number\n",
      "43\n",
      "43\n",
      "<class 'str'>\n"
     ]
    }
   ],
   "source": [
    "## one way to take input\n",
    "\n",
    "print('enter number')\n",
    "i=input()\n",
    "print(i)\n",
    "print(type(i))"
   ]
  },
  {
   "cell_type": "code",
   "execution_count": null,
   "id": "b120c4d3",
   "metadata": {},
   "outputs": [],
   "source": [
    "# Another way\n",
    "i=input('enter a number')\n",
    "print(tyep(i))"
   ]
  },
  {
   "cell_type": "code",
   "execution_count": null,
   "id": "094bd098",
   "metadata": {},
   "outputs": [],
   "source": [
    "#taking int inputs\n",
    "\n",
    "i=int(input('enter number'))\n",
    "print(type(i))"
   ]
  },
  {
   "cell_type": "markdown",
   "id": "aa5ecbd5",
   "metadata": {},
   "source": [
    "## Variables\n",
    "\n",
    ">Variables are like \"jab hamari mammi horlicks ke dabbe mein mirch rakhti hai\"\n",
    "\n",
    ">They use to store strings,numbers,inputs,functions,outputs\n",
    "\n",
    ">var1='hello saske'\n",
    "  >print(var1)\n",
    "  \n",
    ">It is possible to perform arithmetic operations with variables(show example 1.addition of numbers 2.addition of strings)\n",
    "\n",
    ">Numbers in \"\" considered as strings\n",
    "\n",
    ">use type() function to find types of variables\n"
   ]
  },
  {
   "cell_type": "code",
   "execution_count": null,
   "id": "7a29fc99",
   "metadata": {},
   "outputs": [],
   "source": [
    "a='saske'\n",
    "a=func()\n",
    "a=int(input())"
   ]
  },
  {
   "cell_type": "code",
   "execution_count": 4,
   "id": "9d2084db",
   "metadata": {},
   "outputs": [
    {
     "name": "stdout",
     "output_type": "stream",
     "text": [
      "2176\n"
     ]
    }
   ],
   "source": [
    "# simple arithmetic\n",
    "\n",
    "var1=34\n",
    "var2=64\n",
    "print(var1*var2)"
   ]
  },
  {
   "cell_type": "code",
   "execution_count": 7,
   "id": "ab1400c8",
   "metadata": {},
   "outputs": [
    {
     "name": "stdout",
     "output_type": "stream",
     "text": [
      "Saske is the best ninja\n"
     ]
    }
   ],
   "source": [
    "var1='Saske'\n",
    "var2=' is the best ninja'\n",
    "print(var1+var2)"
   ]
  },
  {
   "cell_type": "code",
   "execution_count": 8,
   "id": "9bc3f9d3",
   "metadata": {},
   "outputs": [
    {
     "name": "stdout",
     "output_type": "stream",
     "text": [
      "2334\n"
     ]
    }
   ],
   "source": [
    "var1='23'\n",
    "var2='34'\n",
    "print(var1+var2)"
   ]
  },
  {
   "cell_type": "markdown",
   "id": "332548ba",
   "metadata": {},
   "source": [
    "\n",
    "## Typecasting\n",
    "\n",
    ">With typecasting we can change data type of variables\n",
    "\n",
    ">a=3,b=\"23\",c='saske'\n",
    "\n",
    ">int(b)+a possible----a+int(c) error---str(a)+b+c possible\n",
    "\n"
   ]
  },
  {
   "cell_type": "code",
   "execution_count": 9,
   "id": "a6450d27",
   "metadata": {},
   "outputs": [
    {
     "name": "stdout",
     "output_type": "stream",
     "text": [
      "<class 'int'>\n"
     ]
    }
   ],
   "source": [
    "a='34'\n",
    "print(type(int(a)))"
   ]
  },
  {
   "cell_type": "code",
   "execution_count": 11,
   "id": "8b274d61",
   "metadata": {},
   "outputs": [
    {
     "name": "stdout",
     "output_type": "stream",
     "text": [
      "saske\n",
      "2324422saske\n"
     ]
    },
    {
     "ename": "ValueError",
     "evalue": "invalid literal for int() with base 10: 'saske'",
     "output_type": "error",
     "traceback": [
      "\u001b[1;31m---------------------------------------------------------------------------\u001b[0m",
      "\u001b[1;31mValueError\u001b[0m                                Traceback (most recent call last)",
      "\u001b[1;32m<ipython-input-11-b2f40a12d036>\u001b[0m in \u001b[0;36m<module>\u001b[1;34m\u001b[0m\n\u001b[0;32m     11\u001b[0m \u001b[1;33m\u001b[0m\u001b[0m\n\u001b[0;32m     12\u001b[0m \u001b[1;31m#3\u001b[0m\u001b[1;33m\u001b[0m\u001b[1;33m\u001b[0m\u001b[1;33m\u001b[0m\u001b[0m\n\u001b[1;32m---> 13\u001b[1;33m \u001b[0mf\u001b[0m\u001b[1;33m=\u001b[0m\u001b[0mb\u001b[0m\u001b[1;33m+\u001b[0m\u001b[0mint\u001b[0m\u001b[1;33m(\u001b[0m\u001b[0mc\u001b[0m\u001b[1;33m)\u001b[0m\u001b[1;33m\u001b[0m\u001b[1;33m\u001b[0m\u001b[0m\n\u001b[0m\u001b[0;32m     14\u001b[0m \u001b[0mprint\u001b[0m\u001b[1;33m(\u001b[0m\u001b[0mf\u001b[0m\u001b[1;33m)\u001b[0m\u001b[1;33m\u001b[0m\u001b[1;33m\u001b[0m\u001b[0m\n",
      "\u001b[1;31mValueError\u001b[0m: invalid literal for int() with base 10: 'saske'"
     ]
    }
   ],
   "source": [
    "a='422'\n",
    "b=2324\n",
    "c='saske'\n",
    "#1\n",
    "d=b+int(b)\n",
    "print(c)\n",
    "\n",
    "#2.\n",
    "e=str(b)+a+c\n",
    "print(e)\n",
    "\n",
    "#3\n",
    "f=b+int(c)\n",
    "print(f)"
   ]
  },
  {
   "cell_type": "markdown",
   "id": "a2617030",
   "metadata": {},
   "source": [
    "## Eval()\n",
    "\n",
    ">this function is use to calcualte expressions from strings\n",
    "\n",
    ">a='3+4'---print(a)---output is 3+4\n",
    "\n",
    ">print(eval(a))----output is 7"
   ]
  },
  {
   "cell_type": "code",
   "execution_count": 12,
   "id": "7138e940",
   "metadata": {},
   "outputs": [
    {
     "name": "stdout",
     "output_type": "stream",
     "text": [
      "236\n"
     ]
    }
   ],
   "source": [
    "a='43+23+85*2'\n",
    "print(eval(a))"
   ]
  },
  {
   "cell_type": "markdown",
   "id": "7f65bc5f",
   "metadata": {},
   "source": [
    "## Operators\n",
    "\n",
    "### Arithmetic operators\n",
    "\n",
    "> +,-,*,/ these are basic arithmetic operators\n",
    "\n",
    "> // it gives int value of division (4//3 = 1)\n",
    "\n",
    "> ** it gives power (4**2=16)\n",
    "\n",
    ">% it gives remainder (5%3=2)"
   ]
  },
  {
   "cell_type": "code",
   "execution_count": 13,
   "id": "c89033e5",
   "metadata": {},
   "outputs": [
    {
     "name": "stdout",
     "output_type": "stream",
     "text": [
      "1.25\n",
      "1\n",
      "625\n"
     ]
    }
   ],
   "source": [
    "a=5\n",
    "b=4\n",
    "print(a/b)\n",
    "print(a//b)#floor division operator\n",
    "print(a**b)\n",
    "print(a%b)"
   ]
  },
  {
   "cell_type": "markdown",
   "id": "d0dbf1b8",
   "metadata": {},
   "source": [
    "### Relational Operators\n",
    "\n",
    ">x+=2---x=x+2(same goes for subtraction,multiplication,division)\n",
    "\n",
    ">x=2(2 is stored in)--x==2(x equals to 2)\n",
    "\n",
    ">x>=2,x<=2,x>2,x<2\n",
    "\n",
    ">Similarly we have and,or-- For and(true and true = true)--(true and false = false)\n",
    "\n",
    ">For or (T or T = T)--(T or F = T)--(F or F = F)\n",
    "\n",
    "\n"
   ]
  },
  {
   "cell_type": "markdown",
   "id": "40795d55",
   "metadata": {},
   "source": [
    "#### Is/ Is not\n",
    "\n",
    ">a=2,b=3--a is b returns False\n",
    "\n",
    "> a is not b returns True\n",
    "\n"
   ]
  },
  {
   "cell_type": "code",
   "execution_count": 14,
   "id": "3c943531",
   "metadata": {},
   "outputs": [
    {
     "name": "stdout",
     "output_type": "stream",
     "text": [
      "False\n",
      "False\n",
      "True\n"
     ]
    }
   ],
   "source": [
    "a=34\n",
    "b=43\n",
    "\n",
    "print(a is b)\n",
    "\n",
    "a1=53\n",
    "b1=53\n",
    "\n",
    "print(a is b)\n",
    "\n",
    "print(a is not b)"
   ]
  },
  {
   "cell_type": "markdown",
   "id": "1e21790f",
   "metadata": {},
   "source": [
    "#### in/not in\n",
    "\n",
    ">l=[1,34,5]\n",
    "\n",
    ">1 in l returns True\n",
    "\n",
    ">6 not in l returns True"
   ]
  },
  {
   "cell_type": "code",
   "execution_count": 15,
   "id": "9d180e74",
   "metadata": {},
   "outputs": [
    {
     "name": "stdout",
     "output_type": "stream",
     "text": [
      "False\n",
      "True\n"
     ]
    }
   ],
   "source": [
    "l=[23,43,213,543]\n",
    "print(4 in l)\n",
    "print(213 in l)"
   ]
  },
  {
   "cell_type": "markdown",
   "id": "34e4df4c",
   "metadata": {},
   "source": [
    "## Random module\n",
    "\n",
    "### Generating random integer number between 2 numbers\n",
    "\n",
    ">random.randint(a,b)\n",
    "\n",
    ">for float number use random.uniform(a,b)\n",
    "\n",
    "\n",
    "\n",
    "\n",
    "\n"
   ]
  },
  {
   "cell_type": "code",
   "execution_count": 16,
   "id": "37fef7db",
   "metadata": {},
   "outputs": [
    {
     "name": "stdout",
     "output_type": "stream",
     "text": [
      "20\n",
      "2.850716642847396\n"
     ]
    }
   ],
   "source": [
    "import random\n",
    "a=random.randint(1,100)\n",
    "print(a)\n",
    "\n",
    "b=random.uniform(1,3)\n",
    "print(b)"
   ]
  },
  {
   "cell_type": "markdown",
   "id": "5dfd4a4e",
   "metadata": {},
   "source": [
    "### Generating random value from list\n",
    "\n",
    ">random.choice(list)\n",
    "\n"
   ]
  },
  {
   "cell_type": "code",
   "execution_count": 19,
   "id": "fb7988c0",
   "metadata": {},
   "outputs": [
    {
     "name": "stdout",
     "output_type": "stream",
     "text": [
      "1\n"
     ]
    }
   ],
   "source": [
    "l=[1,32,35,64,22,75]\n",
    "i=random.choice(l)\n",
    "print(i)"
   ]
  },
  {
   "cell_type": "markdown",
   "id": "f8a9962d",
   "metadata": {},
   "source": [
    "### Shuffling list values\n",
    "\n",
    ">random.shuffle(list)---do not write print(shuffle inside it)--first shuffle then print list"
   ]
  },
  {
   "cell_type": "code",
   "execution_count": 20,
   "id": "1f98927b",
   "metadata": {},
   "outputs": [
    {
     "name": "stdout",
     "output_type": "stream",
     "text": [
      "[22, 75, 35, 32, 1, 64]\n"
     ]
    }
   ],
   "source": [
    "l=[1,32,35,64,22,75]\n",
    "random.shuffle(l)\n",
    "print(l)\n"
   ]
  },
  {
   "cell_type": "markdown",
   "id": "e2c4eb71",
   "metadata": {},
   "source": [
    "## Strings\n",
    "\n",
    "### String Attributes\n",
    "\n",
    "#### 1.capitalize()--Makes first letter capital--string.capitalize()\n",
    "\n",
    "\n",
    "\n",
    "\n"
   ]
  },
  {
   "cell_type": "code",
   "execution_count": null,
   "id": "3868028a",
   "metadata": {},
   "outputs": [],
   "source": [
    "s=\" levi is the fidget spinner\"\n",
    "print(s.capitalize())"
   ]
  },
  {
   "cell_type": "markdown",
   "id": "72d3fed5",
   "metadata": {},
   "source": [
    "#### 2.upper()--Makes all letters capital--string.upper()\n",
    "\n"
   ]
  },
  {
   "cell_type": "code",
   "execution_count": 21,
   "id": "32ac74eb",
   "metadata": {},
   "outputs": [
    {
     "name": "stdout",
     "output_type": "stream",
     "text": [
      " LEVI IS THE FIDGET SPINNER\n"
     ]
    }
   ],
   "source": [
    "s=\" levi is the fidget spinner\"\n",
    "print(s.upper())"
   ]
  },
  {
   "cell_type": "markdown",
   "id": "3dc86fba",
   "metadata": {},
   "source": [
    "#### 3.lower()--Makes all letters small--string.lower()\n",
    "\n"
   ]
  },
  {
   "cell_type": "code",
   "execution_count": null,
   "id": "43649824",
   "metadata": {},
   "outputs": [],
   "source": [
    "s=\" levi IS the fidget sPinner\"\n",
    "print(s.lower())"
   ]
  },
  {
   "cell_type": "markdown",
   "id": "7ebf4c1a",
   "metadata": {},
   "source": [
    "#### 4.swapcase()--Makes upper letter lowers and viceversa--s.swpacase()\n",
    "\n"
   ]
  },
  {
   "cell_type": "code",
   "execution_count": 22,
   "id": "649166fd",
   "metadata": {},
   "outputs": [
    {
     "name": "stdout",
     "output_type": "stream",
     "text": [
      " LEVI is THE FIDGET SpINNER\n"
     ]
    }
   ],
   "source": [
    "s=\" levi IS the fidget sPinner\"\n",
    "print(s.swapcase())"
   ]
  },
  {
   "cell_type": "markdown",
   "id": "7372beae",
   "metadata": {},
   "source": [
    "#### 5.count()--returns number of times specified value occurs in string--It is case sensitive--string.count(value)\n",
    "\n"
   ]
  },
  {
   "cell_type": "code",
   "execution_count": 24,
   "id": "577b3465",
   "metadata": {},
   "outputs": [
    {
     "name": "stdout",
     "output_type": "stream",
     "text": [
      "2\n",
      "0\n"
     ]
    }
   ],
   "source": [
    "s=\" levi is the fidget spinner\"\n",
    "print(s.count(\"n\"))\n",
    "print(s.count('L'))"
   ]
  },
  {
   "cell_type": "markdown",
   "id": "52fda6a8",
   "metadata": {},
   "source": [
    "#### 6.find()--it returns the index of that value from string\n",
    "\n",
    ">if multiple cahracters are present it gives the first character it found while traversing\n",
    "\n",
    ">it gives -1 if character is not there\n",
    "\n",
    ">string.find(value)"
   ]
  },
  {
   "cell_type": "code",
   "execution_count": 26,
   "id": "9db6ad5f",
   "metadata": {},
   "outputs": [
    {
     "name": "stdout",
     "output_type": "stream",
     "text": [
      "1\n"
     ]
    }
   ],
   "source": [
    "s=\" levi is the fidget spinner\"\n",
    "print(s.find('l'))\n",
    "print(s.find('V'))"
   ]
  },
  {
   "cell_type": "markdown",
   "id": "eece94b4",
   "metadata": {},
   "source": [
    "#### index()\n",
    "\n",
    ">it returns the index of value\n",
    "\n",
    ">string.index(value)\n",
    "\n",
    ">it raise an exception if value is not found\n",
    "\n"
   ]
  },
  {
   "cell_type": "code",
   "execution_count": null,
   "id": "40c63891",
   "metadata": {},
   "outputs": [],
   "source": [
    "s=\" levi is the fidget spinner\"\n",
    "print(s.index('f'))\n",
    "print(s.index('L'))"
   ]
  },
  {
   "cell_type": "markdown",
   "id": "8b6a41f4",
   "metadata": {},
   "source": [
    "#### split()\n",
    "\n",
    ">splits string at specifier and stores value in list\n",
    "\n",
    ">string.split(\"specifier\")\n",
    "\n"
   ]
  },
  {
   "cell_type": "code",
   "execution_count": 27,
   "id": "c1aef1bd",
   "metadata": {},
   "outputs": [
    {
     "name": "stdout",
     "output_type": "stream",
     "text": [
      "['', 'levi', 'is', 'the', 'fidget', 'spinner']\n"
     ]
    }
   ],
   "source": [
    "s=\" levi is the fidget spinner\"\n",
    "l=s.split(' ')\n",
    "print(l)"
   ]
  },
  {
   "cell_type": "markdown",
   "id": "af369183",
   "metadata": {},
   "source": [
    "#### strip()\n",
    "\n",
    ">removes blank spaces from begining and end of string\n",
    "\n",
    ">string.strip()\n",
    "\n"
   ]
  },
  {
   "cell_type": "code",
   "execution_count": 29,
   "id": "695035c6",
   "metadata": {},
   "outputs": [
    {
     "name": "stdout",
     "output_type": "stream",
     "text": [
      "levi is the fidget spinner\n",
      " levi is the fidget spinner  \n"
     ]
    }
   ],
   "source": [
    "s=\" levi is the fidget spinner  \"\n",
    "print(s.strip())\n",
    "print(s)"
   ]
  },
  {
   "cell_type": "markdown",
   "id": "07b37a7e",
   "metadata": {},
   "source": [
    "#### replace()\n",
    "\n",
    ">string.replace(old,new,count)\n",
    "\n"
   ]
  },
  {
   "cell_type": "code",
   "execution_count": null,
   "id": "23ef2d1d",
   "metadata": {},
   "outputs": [],
   "source": [
    "s=\" levi is the fidget spinner\"\n",
    "print(s.replace('n','N'))\n",
    "print(s.replace('n','N',2))"
   ]
  },
  {
   "cell_type": "markdown",
   "id": "0622f029",
   "metadata": {},
   "source": [
    "#### is functions\n",
    "\n",
    ">isspace()--returns true is if all characters are white spaces\n",
    "\n",
    ">isupper()- returns true if all characters are upper\n",
    "\n",
    ">islower()-returns true if all characters are lower\n",
    "\n",
    ">isalpha()-returns true if all characters are alphabates--if there are spaces between them it will return false\n",
    "\n",
    ">isalnum()-returns true if string has alphabates and numbers"
   ]
  },
  {
   "cell_type": "code",
   "execution_count": null,
   "id": "eb6ebd65",
   "metadata": {},
   "outputs": [],
   "source": [
    "s=\" levi is the fidget spinner\""
   ]
  },
  {
   "cell_type": "markdown",
   "id": "f2030d6f",
   "metadata": {},
   "source": [
    "## String formatting\n",
    "\n",
    ">Adding variables,functions,values in string\n",
    "\n",
    "### One way\n",
    "\n",
    ">a=21---print(' My age is',a)\n",
    "\n",
    ">But as more value gets added or string gets complicated,it will be difficult to figure out formats\n",
    "\n",
    "### F-strings(best way)\n",
    "\n",
    ">a=21--print(f\"My age is {a}\")"
   ]
  },
  {
   "cell_type": "code",
   "execution_count": 34,
   "id": "433912c0",
   "metadata": {},
   "outputs": [
    {
     "name": "stdout",
     "output_type": "stream",
     "text": [
      "My name is saske\n"
     ]
    }
   ],
   "source": [
    "a=\"saske\"\n",
    "print('My name is', a)"
   ]
  },
  {
   "cell_type": "code",
   "execution_count": 37,
   "id": "ba1e037d",
   "metadata": {},
   "outputs": [
    {
     "name": "stdout",
     "output_type": "stream",
     "text": [
      "My name is saske, my age is 21 and i'm a ninja\n"
     ]
    }
   ],
   "source": [
    "# f strings\n",
    "a='saske'\n",
    "b=21\n",
    "c='ninja'\n",
    "print(f\"My name is {a}, my age is {b} and i'm a {c}\")"
   ]
  },
  {
   "cell_type": "code",
   "execution_count": 56,
   "id": "e859bb6a",
   "metadata": {},
   "outputs": [
    {
     "name": "stdout",
     "output_type": "stream",
     "text": [
      " No. 1 anime is attack on titan, No. 2 anime is naruto,No. 3 anime is death note\n"
     ]
    }
   ],
   "source": [
    "l=['attack on titan','naruto','death note']\n",
    "a=f\" No. 1 anime is {l[0]}, No. 2 anime is {l[1]}, No. 3 anime is {l[2]}\"\n",
    "print(a)"
   ]
  },
  {
   "cell_type": "markdown",
   "id": "e5741ffa",
   "metadata": {},
   "source": [
    "## String Slicing\n",
    "\n",
    "> string=\"Levi is the fidget spinner\"\n",
    "\n",
    ">string[2] will give v\n",
    "\n",
    ">It considers space indexes also\n",
    "\n",
    ">string[0:5] will give Levi--5 exclusive\n",
    "\n",
    ">string[:5] will give Levi\n",
    "\n",
    ">string[0:len(string)] will give whole string\n",
    "\n",
    ">string[0:100000]--number greater than len will also give whole string\n",
    "\n",
    ">string[0:] will give whole string\n",
    "\n",
    ">string[:] will give whole string\n",
    "\n",
    ">string[0:4:2] will give Lv\n",
    "\n",
    ">string[:4:2] will give Lv\n",
    "\n",
    ">string[::2] will give Lv\n",
    "\n",
    ">string[::] will give whole string\n",
    "\n",
    ">string[::-1] will reverse the string\n",
    "\n",
    ">string[::-2] will reverse the string and will give alterante entries\n",
    "\n",
    ">string[-3:-1] will give ne(Start counting from left)\n"
   ]
  },
  {
   "cell_type": "code",
   "execution_count": null,
   "id": "5076b3dc",
   "metadata": {},
   "outputs": [],
   "source": [
    "s=\" levi is the fidget spinner\""
   ]
  },
  {
   "cell_type": "markdown",
   "id": "57588893",
   "metadata": {},
   "source": [
    "## IF else\n",
    "\n",
    "> if(condition):\n",
    "     \n",
    "     >  execute this\n",
    " \n",
    "  >elif(condition):\n",
    "    \n",
    "     >  execute this\n",
    "  \n",
    "  >else:\n",
    "    \n",
    "     >  execute this"
   ]
  },
  {
   "cell_type": "code",
   "execution_count": 38,
   "id": "d1482a79",
   "metadata": {},
   "outputs": [
    {
     "name": "stdout",
     "output_type": "stream",
     "text": [
      "enter your age18\n",
      "You have to take test\n"
     ]
    }
   ],
   "source": [
    "# write proram for beloe 18yr can' drive,18 yr old have to take test,above 18 yr old can drive\n",
    "age=int(input('enter your age'))\n",
    "if(age<18):\n",
    "    print(\"Can't drive\")\n",
    "elif(age==18):\n",
    "    print('You have to take test')\n",
    "else:\n",
    "    print('Can drive')"
   ]
  },
  {
   "cell_type": "markdown",
   "id": "63ee24a7",
   "metadata": {},
   "source": [
    "### Multiple if else\n",
    "\n",
    ">if(condition):\n",
    "    \n",
    "    >if(condition):\n",
    "        \n",
    "        >execute this\n",
    "    >else:\n",
    "         \n",
    "        >execute this"
   ]
  },
  {
   "cell_type": "code",
   "execution_count": 39,
   "id": "9e4107d9",
   "metadata": {},
   "outputs": [
    {
     "name": "stdout",
     "output_type": "stream",
     "text": [
      "enter 1 if you anime lovers1\n",
      "Are you sensitive?Y\n",
      "Watch AOT\n"
     ]
    }
   ],
   "source": [
    "i=int(input('enter 1 if you anime lovers'))\n",
    "j=input('Are you sensitive?')\n",
    "\n",
    "if(i==1):\n",
    "    if (j=='Y'):\n",
    "        print('Watch AOT')\n",
    "    else:\n",
    "        print('Watch naruto')\n",
    "else:\n",
    "    print('You are missing life')\n",
    "        "
   ]
  },
  {
   "cell_type": "markdown",
   "id": "0a138159",
   "metadata": {},
   "source": [
    "### Short hand if-else\n",
    "\n",
    ">if(condition):execute this\n",
    "    \n",
    ">else:execute this"
   ]
  },
  {
   "cell_type": "code",
   "execution_count": null,
   "id": "2b73888b",
   "metadata": {},
   "outputs": [],
   "source": [
    "# write proram for beloe 18yr can' drive,18 yr old have to take test,above 18 yr old can drive\n",
    "age=int(input('enter your age'))\n",
    "if(age<18): print(\"Can't drive\")\n",
    "elif(age==18):print('You have to take test')\n",
    "else: print('Can drive')"
   ]
  },
  {
   "cell_type": "markdown",
   "id": "5af35e12",
   "metadata": {},
   "source": [
    "### For loop\n",
    "\n",
    ">for i in range(a,b):print(i) will print from a to b-1\n",
    "    \n",
    ">for i in range(a,b,2):print(i) will print alternative from ato b-1\n",
    "    \n",
    ">list=[1,2,353,21,53]--for i in list:print(i)--will give list elements\n",
    "    \n",
    ">you can write multiple for statements(show example for nested lists and removing repeated letters from string)\n",
    "\n",
    "#### For else\n",
    "\n",
    ">else with for only works when for loop runs completely\n",
    "\n",
    ">if it finds break statement, else will not execute\n",
    "\n"
   ]
  },
  {
   "cell_type": "code",
   "execution_count": null,
   "id": "e0c8b185",
   "metadata": {},
   "outputs": [],
   "source": [
    "for i in range(0,4):\n",
    "    print(i)"
   ]
  },
  {
   "cell_type": "code",
   "execution_count": 40,
   "id": "b79d98dc",
   "metadata": {},
   "outputs": [
    {
     "name": "stdout",
     "output_type": "stream",
     "text": [
      "0\n",
      "2\n",
      "4\n",
      "6\n",
      "8\n"
     ]
    }
   ],
   "source": [
    "for i in range(0,10,2):\n",
    "    print(i)"
   ]
  },
  {
   "cell_type": "code",
   "execution_count": 41,
   "id": "5c399574",
   "metadata": {},
   "outputs": [
    {
     "name": "stdout",
     "output_type": "stream",
     "text": [
      "1\n",
      "23\n",
      "43\n",
      "5\n",
      "32\n",
      "saske\n",
      "saske\n",
      "saske\n",
      "saske\n",
      "saske\n"
     ]
    }
   ],
   "source": [
    "l=[1,23,43,5,32]\n",
    "for i in l:\n",
    "    print(i)\n",
    "    \n",
    "s='saske'\n",
    "for char in s:\n",
    "    print(char)"
   ]
  },
  {
   "cell_type": "code",
   "execution_count": 42,
   "id": "198bb2a0",
   "metadata": {},
   "outputs": [
    {
     "name": "stdout",
     "output_type": "stream",
     "text": [
      "sake ithbnj\n"
     ]
    }
   ],
   "source": [
    "# REMOVNG repeated letters\n",
    "\n",
    "st='saske is the best ninja'\n",
    "s=''\n",
    "for i in st:\n",
    "    if i not in s:\n",
    "        s+=i\n",
    "print(s)\n"
   ]
  },
  {
   "cell_type": "code",
   "execution_count": null,
   "id": "bbfb6234",
   "metadata": {},
   "outputs": [],
   "source": [
    "for i in range(1,10):\n",
    "    print(i)\n",
    "    #break\n",
    "else:\n",
    "    print('for loop runs sucessfully')"
   ]
  },
  {
   "cell_type": "markdown",
   "id": "fd681ce9",
   "metadata": {},
   "source": [
    "### Enumerate function\n",
    "\n",
    ">it gives index and value also\n",
    "\n"
   ]
  },
  {
   "cell_type": "code",
   "execution_count": 45,
   "id": "c6f469d9",
   "metadata": {},
   "outputs": [
    {
     "name": "stdout",
     "output_type": "stream",
     "text": [
      "a at 0\n",
      "b at 1\n"
     ]
    }
   ],
   "source": [
    "l=['a','b']\n",
    "\n",
    "for index,value in enumerate(l):\n",
    "\n",
    "    print(f\"{value} at {index}\")"
   ]
  },
  {
   "cell_type": "markdown",
   "id": "91eb8d23",
   "metadata": {},
   "source": [
    "### while loop\n",
    "\n",
    ">Initialisation\n",
    "\n",
    ">while(condition):\n",
    "    \n",
    ">Incremental\n",
    "\n",
    ">while 1 or while True will give infinite loop"
   ]
  },
  {
   "cell_type": "code",
   "execution_count": null,
   "id": "2cd3dbd5",
   "metadata": {},
   "outputs": [],
   "source": [
    "i=0\n",
    "while(i<9):\n",
    "    print(i)\n",
    "    i+=1"
   ]
  },
  {
   "cell_type": "markdown",
   "id": "9cf1e6ba",
   "metadata": {},
   "source": [
    "### break and continue\n",
    "\n",
    ">break- will break loop and will go outside loop(Show example)\n",
    "\n",
    ">continue-will give control to first statement in loop(show example)"
   ]
  },
  {
   "cell_type": "code",
   "execution_count": 47,
   "id": "e52e6b99",
   "metadata": {},
   "outputs": [
    {
     "name": "stdout",
     "output_type": "stream",
     "text": [
      "enter number33\n",
      "enter number67\n"
     ]
    }
   ],
   "source": [
    "while True:\n",
    "    i=int(input('enter number'))\n",
    "    if (i<50):\n",
    "        continue\n",
    "    elif(i>50):\n",
    "        break"
   ]
  },
  {
   "cell_type": "markdown",
   "id": "6ad2d342",
   "metadata": {},
   "source": [
    "# Mutable and non mutable seq\n",
    "\n",
    ">those seq whose values can be updated e.g list,dictionary,sets\n",
    "\n",
    ">those whose values cannot be updated e.g.tuple\n"
   ]
  },
  {
   "cell_type": "markdown",
   "id": "e2d36574",
   "metadata": {},
   "source": [
    "## LIST\n",
    "\n",
    "### List slicing\n",
    "\n",
    ">l[index] will give value\n",
    "\n",
    ">l[a:b] will give values between a to b-1\n",
    "\n",
    ">You can directly change any list element by l[index]=new_element\n",
    "\n"
   ]
  },
  {
   "cell_type": "code",
   "execution_count": 48,
   "id": "a2a0607c",
   "metadata": {},
   "outputs": [
    {
     "name": "stdout",
     "output_type": "stream",
     "text": [
      "31\n",
      "[242, 31, 35]\n",
      "[1245, 63, 35, 31, 242]\n",
      "[242, 9090, 35, 63, 1245]\n"
     ]
    }
   ],
   "source": [
    "l=[242,31,35,63,1245]\n",
    "print(l[1])\n",
    "print(l[0:3])\n",
    "print(l[::-1])\n",
    "l[1]=9090\n",
    "print(l)"
   ]
  },
  {
   "cell_type": "markdown",
   "id": "1102b84a",
   "metadata": {},
   "source": [
    "### List attributes\n",
    "\n",
    ">append-- l.append(value) will append at the end of list\n",
    "\n",
    ">insert--l.insert(index,value) will insert value at specified position\n",
    "\n",
    ">pop--l.pop(index) will remove value from that index/ if no index given then it will remove from the end\n",
    "\n",
    ">remove--l.remove(specified value) will remove specified value from list\n",
    "\n",
    ">extend--l1.extend(l2) will add l2 in l1 or l1+l2\n",
    "\n",
    ">count--l.count(value) for counting occurence of that value\n",
    "\n",
    ">sum-sum(l) will add all elements from list\n",
    "\n",
    ">max--max(l) will give max value from list\n",
    "\n",
    ">min--min(l) will give min value from list\n",
    "\n",
    ">join-\"-\".join(l) will join list elements with -(only works for string elemets)\n",
    "\n",
    ">clear--l.clear() will clear all elements from list\n",
    "\n",
    ">del-- del l will delete whole list\n",
    "\n",
    ">for writing nesting lists [l1,l2]\n",
    "\n",
    "\n"
   ]
  },
  {
   "cell_type": "code",
   "execution_count": null,
   "id": "7566558a",
   "metadata": {},
   "outputs": [],
   "source": []
  },
  {
   "cell_type": "markdown",
   "id": "493418c5",
   "metadata": {},
   "source": [
    "#### Merging elements in list\n",
    "\n",
    ">l[2:4]=[''.join(l[2:4])]\n",
    "\n",
    ">show code"
   ]
  },
  {
   "cell_type": "markdown",
   "id": "e342fdfb",
   "metadata": {},
   "source": [
    "## List Comprehensions\n",
    "\n",
    ">newList = [ expression(element) for element in oldList if condition ]\n",
    "\n",
    ">if condition is optional\n",
    "\n",
    "#### Advantages of List Comprehension\n",
    "\n",
    ">More time efficient and space efficient than loops.\n",
    "\n",
    ">Require fewer lines of code.\n",
    "\n",
    ">Transforms iterative statement into a formula.\n",
    "\n"
   ]
  },
  {
   "cell_type": "markdown",
   "id": "78132d6e",
   "metadata": {},
   "source": [
    "#### list comprehensions vs loops\n",
    "\n"
   ]
  },
  {
   "cell_type": "code",
   "execution_count": 19,
   "id": "237e7f11",
   "metadata": {},
   "outputs": [
    {
     "name": "stdout",
     "output_type": "stream",
     "text": [
      "['S', 'a', 's', 'k', 'e', ' ', 'i', 's', ' ', 'b', 'e', 's', 't']\n",
      "['S', 'a', 's', 'k', 'e', ' ', 'i', 's', ' ', 'b', 'e', 's', 't']\n"
     ]
    }
   ],
   "source": [
    "# way to make list\n",
    "\n",
    "l=[]\n",
    "string=\"Saske is best\"\n",
    "for i in string:\n",
    "    l.append(i)\n",
    "print(l)\n",
    "\n",
    "#comprehension way\n",
    "l=[i for i in string]\n",
    "print(l)"
   ]
  },
  {
   "cell_type": "code",
   "execution_count": 22,
   "id": "841ab792",
   "metadata": {},
   "outputs": [
    {
     "name": "stdout",
     "output_type": "stream",
     "text": [
      "[2, 4, 6, 8]\n",
      "[2, 4, 6, 8]\n"
     ]
    }
   ],
   "source": [
    "# adding only even numbers to list\n",
    "\n",
    "def even(n):\n",
    "    l=[]\n",
    "    for i in n:\n",
    "        if i%2==0:\n",
    "            l.append(i)\n",
    "    return l\n",
    "\n",
    "a=(1,2,3,4,5,6,7,8)\n",
    "print(even(a))\n",
    "\n",
    "# comprehension way\n",
    "\n",
    "l=[i for i in a if i%2==0]\n",
    "print(l)\n",
    "        "
   ]
  },
  {
   "cell_type": "code",
   "execution_count": 27,
   "id": "476694df",
   "metadata": {},
   "outputs": [
    {
     "name": "stdout",
     "output_type": "stream",
     "text": [
      "[[0, 1, 2, 3, 4], [0, 1, 2, 3, 4], [0, 1, 2, 3, 4]]\n",
      "[[0, 1, 2, 3, 4], [0, 1, 2, 3, 4], [0, 1, 2, 3, 4]]\n"
     ]
    }
   ],
   "source": [
    "# nesting list\n",
    "l1=[]\n",
    "for i in range(3):\n",
    "    l1.append([])\n",
    "    for j in range(5):\n",
    "        l1[i].append(j)\n",
    "print(l1)\n",
    "\n",
    "#Comprehension way\n",
    "\n",
    "l=[[j for j in range (5)] for i in range (3)]\n",
    "print(l)"
   ]
  },
  {
   "cell_type": "code",
   "execution_count": 30,
   "id": "683ded05",
   "metadata": {},
   "outputs": [
    {
     "name": "stdout",
     "output_type": "stream",
     "text": [
      "[1, 4, 9, 16, 25, 36, 49, 64, 81]\n",
      "[1, 4, 9, 16, 25, 36, 49, 64, 81]\n"
     ]
    }
   ],
   "source": [
    "# appending squares of numbers\n",
    "l=[]\n",
    "for i in range(1,10):\n",
    "    l.append(i*i)\n",
    "print(l)\n",
    "\n",
    "#comprehension way\n",
    "l=[i*i for i in range(1,10)]\n",
    "print(l)"
   ]
  },
  {
   "cell_type": "code",
   "execution_count": 31,
   "id": "a19bc85d",
   "metadata": {},
   "outputs": [
    {
     "name": "stdout",
     "output_type": "stream",
     "text": [
      "[8, 64, 216, 512, 1000]\n"
     ]
    }
   ],
   "source": [
    "## getting cube of even numbers in 1-10\n",
    "\n",
    "l=[i**3 for i in range(1,11) if i%2==0 ]\n",
    "print(l)"
   ]
  },
  {
   "cell_type": "code",
   "execution_count": 32,
   "id": "021e9a34",
   "metadata": {},
   "outputs": [
    {
     "name": "stdout",
     "output_type": "stream",
     "text": [
      "['eksas', 'oturan']\n"
     ]
    }
   ],
   "source": [
    "# reversing each string in tuple\n",
    "\n",
    "l=[i[::-1] for i in ('saske','naruto')]\n",
    "print(l)"
   ]
  },
  {
   "cell_type": "code",
   "execution_count": 37,
   "id": "30fd88b2",
   "metadata": {},
   "outputs": [
    {
     "name": "stdout",
     "output_type": "stream",
     "text": [
      "[6, 35, 16]\n"
     ]
    }
   ],
   "source": [
    "# adding only odd elemnts from list\n",
    "\n",
    "def sm(m):\n",
    "    total_sum=0\n",
    "    for i in str(m):\n",
    "        total_sum+=int(i)\n",
    "    return total_sum\n",
    "l=[123,764,97865,475]\n",
    "\n",
    "l1=[sm(i) for i in l if i%2!=0]\n",
    "print(l1)"
   ]
  },
  {
   "cell_type": "code",
   "execution_count": 41,
   "id": "ce643e92",
   "metadata": {},
   "outputs": [
    {
     "name": "stdout",
     "output_type": "stream",
     "text": [
      "[(1, 3), (2, 4), (3, 5)]\n"
     ]
    }
   ],
   "source": [
    "k=(1,2,3)\n",
    "v=(3,4,5)\n",
    "a=list(zip(k,v))\n",
    "print(a)"
   ]
  },
  {
   "cell_type": "markdown",
   "id": "9574f4c8",
   "metadata": {},
   "source": [
    "# DICTIONARY\n",
    "\n",
    ">Dictionary is nothing but key and value pairs\n",
    "\n",
    ">keys are case sensitive\n",
    "\n",
    ">keys can be number and string also"
   ]
  },
  {
   "cell_type": "code",
   "execution_count": null,
   "id": "05e4368c",
   "metadata": {},
   "outputs": [],
   "source": [
    "#simple dictionary\n",
    "\n",
    "d1={'saske':'naruto shipudeen','levi':'attack on titan','Gojou':'Jujutsu Kaisen'}\n",
    "print(d1)\n",
    "\n",
    "#dictionary with nested lists\n",
    "\n",
    "d2={'death_note':['Ruyzaki','light yagami','misa'],'demon_slayer':['tanjiro','zenitsu']}\n",
    "print(d2)\n",
    "\n",
    "#nested dictionary\n",
    "\n",
    "d3={'naruto_shipudeen':{'uchihas':['madara','itachi','shisui']},'fairy_tail':{'guild':['natsu','erza','grey']}}\n",
    "print(d3)"
   ]
  },
  {
   "cell_type": "markdown",
   "id": "32575aec",
   "metadata": {},
   "source": [
    "### DICT() function\n",
    "\n",
    ">an in-buit function use to create dictionary "
   ]
  },
  {
   "cell_type": "code",
   "execution_count": 31,
   "id": "35ea26bd",
   "metadata": {},
   "outputs": [
    {
     "name": "stdout",
     "output_type": "stream",
     "text": [
      "{1: 'saske', 2: 'levi', 3: 'natsu'}\n"
     ]
    }
   ],
   "source": [
    "#creating dictionary with dict function\n",
    "\n",
    "a=[(1,'saske'),(2,'levi'),(3,'natsu')]\n",
    "print(dict(a))"
   ]
  },
  {
   "cell_type": "markdown",
   "id": "445e0e69",
   "metadata": {},
   "source": [
    "### Adding elements to dictionary\n",
    "\n",
    ">those are not index,those are keys"
   ]
  },
  {
   "cell_type": "code",
   "execution_count": 33,
   "id": "88f219da",
   "metadata": {},
   "outputs": [
    {
     "name": "stdout",
     "output_type": "stream",
     "text": [
      "Empty Dictionary: \n",
      "{}\n",
      "\n",
      "Dictionary after adding 3 elements: \n",
      "{0: 'saske', 2: 'levi', 3: 1}\n",
      "\n",
      "Dictionary after adding 3 elements: \n",
      "{0: 'saske', 2: 'levi', 3: 1, 'death-note': ('misa', 'ryuk')}\n",
      "\n",
      "Updated key value: \n",
      "{0: 'saske', 2: 'Mikasa', 3: 1, 'death-note': ('misa', 'ryuk')}\n",
      "\n",
      "Adding a Nested Key: \n",
      "{0: 'saske', 2: 'Mikasa', 3: 1, 'death-note': ('misa', 'ryuk'), 5: {'uzumaki': {'naruto': 'hinata', 'minato': 'kushina'}}}\n"
     ]
    }
   ],
   "source": [
    "# Creating an empty Dictionary\n",
    "Dict = {}\n",
    "print(\"Empty Dictionary: \")\n",
    "print(Dict)\n",
    "\n",
    "# Adding elements one at a time\n",
    "Dict[0] = 'saske'\n",
    "Dict[2] = 'levi'\n",
    "Dict[3] = 1\n",
    "print(\"\\nDictionary after adding 3 elements: \")\n",
    "print(Dict)\n",
    "\n",
    "# Adding set of values\n",
    "# to a single Key\n",
    "Dict['death-note'] = 'misa','ryuk'\n",
    "print(\"\\nDictionary after adding 3 elements: \")\n",
    "print(Dict)\n",
    "\n",
    "# Updating existing Key's Value\n",
    "Dict[2] = 'Mikasa'\n",
    "print(\"\\nUpdated key value: \")\n",
    "print(Dict)\n",
    "\n",
    "# Adding Nested Key value to Dictionary\n",
    "Dict[5] = {'uzumaki' :{'naruto' : 'hinata', 'minato' : 'kushina'}}\n",
    "print(\"\\nAdding a Nested Key: \")\n",
    "print(Dict)\n"
   ]
  },
  {
   "cell_type": "markdown",
   "id": "b6a9506c",
   "metadata": {},
   "source": [
    "### Accessing dictionary elements\n",
    "\n",
    ">write key name in square bracket in front of dictionary name\n",
    "\n"
   ]
  },
  {
   "cell_type": "code",
   "execution_count": 38,
   "id": "940898c7",
   "metadata": {},
   "outputs": [
    {
     "name": "stdout",
     "output_type": "stream",
     "text": [
      "naruto shipudeen\n",
      "['natsu', 'erza', 'grey']\n",
      "['shikamaru', 'temari']\n"
     ]
    }
   ],
   "source": [
    "d1={'saske':'naruto shipudeen','levi':'attack on titan','Gojou':'Jujutsu Kaisen'}\n",
    "\n",
    "print(d1['saske'])\n",
    "\n",
    "#Accessing elements from nested dictionary\n",
    "\n",
    "d3={'naruto_shipudeen':{'uchihas':['madara','itachi','shisui'],'nara':['shikamaru','temari']},\n",
    "    'fairy_tail':{'guild':['natsu','erza','grey']}}\n",
    "\n",
    "print(d3['fairy_tail']['guild'])\n",
    "print(d3['naruto_shipudeen']['nara'])"
   ]
  },
  {
   "cell_type": "markdown",
   "id": "3e8e63a6",
   "metadata": {},
   "source": [
    "### Dictionary Attributes\n",
    "\n",
    "#### copy()\n",
    "\n",
    ">returns the copy of dictionary"
   ]
  },
  {
   "cell_type": "code",
   "execution_count": 39,
   "id": "1439d11e",
   "metadata": {},
   "outputs": [
    {
     "name": "stdout",
     "output_type": "stream",
     "text": [
      "{'saske': 'naruto shipudeen', 'levi': 'attack on titan', 'Gojou': 'Jujutsu Kaisen'}\n"
     ]
    }
   ],
   "source": [
    "d1={'saske':'naruto shipudeen','levi':'attack on titan','Gojou':'Jujutsu Kaisen'}\n",
    "\n",
    "d2=d1.copy()\n",
    "print(d2)"
   ]
  },
  {
   "cell_type": "markdown",
   "id": "837af297",
   "metadata": {},
   "source": [
    "#### clear()\n",
    "\n",
    ">clears all items from dictionary"
   ]
  },
  {
   "cell_type": "code",
   "execution_count": 41,
   "id": "e61eaa17",
   "metadata": {},
   "outputs": [
    {
     "name": "stdout",
     "output_type": "stream",
     "text": [
      "{}\n"
     ]
    }
   ],
   "source": [
    "d1={'saske':'naruto shipudeen','levi':'attack on titan','Gojou':'Jujutsu Kaisen'}\n",
    "\n",
    "d1.clear()\n",
    "\n",
    "print(d1)"
   ]
  },
  {
   "cell_type": "markdown",
   "id": "a6816449",
   "metadata": {},
   "source": [
    "#### get()\n",
    "\n",
    ">getting values for keys"
   ]
  },
  {
   "cell_type": "code",
   "execution_count": 42,
   "id": "5505bb8e",
   "metadata": {},
   "outputs": [
    {
     "name": "stdout",
     "output_type": "stream",
     "text": [
      "naruto shipudeen\n"
     ]
    }
   ],
   "source": [
    "d1={'saske':'naruto shipudeen','levi':'attack on titan','Gojou':'Jujutsu Kaisen'}\n",
    "\n",
    "print(d1.get('saske'))"
   ]
  },
  {
   "cell_type": "markdown",
   "id": "5f157978",
   "metadata": {},
   "source": [
    "#### values()\n",
    "\n",
    ">returns all values from dictionary"
   ]
  },
  {
   "cell_type": "code",
   "execution_count": 43,
   "id": "8ceffe7d",
   "metadata": {},
   "outputs": [
    {
     "name": "stdout",
     "output_type": "stream",
     "text": [
      "dict_values(['naruto shipudeen', 'attack on titan', 'Jujutsu Kaisen'])\n"
     ]
    }
   ],
   "source": [
    "d1={'saske':'naruto shipudeen','levi':'attack on titan','Gojou':'Jujutsu Kaisen'}\n",
    "\n",
    "print(d1.values())"
   ]
  },
  {
   "cell_type": "markdown",
   "id": "986a76a4",
   "metadata": {},
   "source": [
    "#### keys()\n",
    "\n",
    ">returns all keys from dictionary"
   ]
  },
  {
   "cell_type": "code",
   "execution_count": 44,
   "id": "fe578876",
   "metadata": {},
   "outputs": [
    {
     "name": "stdout",
     "output_type": "stream",
     "text": [
      "dict_keys(['saske', 'levi', 'Gojou'])\n"
     ]
    }
   ],
   "source": [
    "d1={'saske':'naruto shipudeen','levi':'attack on titan','Gojou':'Jujutsu Kaisen'}\n",
    "\n",
    "print(d1.keys())"
   ]
  },
  {
   "cell_type": "markdown",
   "id": "236c6039",
   "metadata": {},
   "source": [
    "#### update()\n",
    "\n",
    ">all similar keys will get updated\n",
    "\n",
    ">you can either update dictionary with another dictionary or iterable"
   ]
  },
  {
   "cell_type": "code",
   "execution_count": 47,
   "id": "771a1b13",
   "metadata": {},
   "outputs": [
    {
     "name": "stdout",
     "output_type": "stream",
     "text": [
      "{'saske': 'team_7', 'levi': 'survey_corps', 'Gojou': 'Jujutsu Kaisen'}\n",
      "{'saske': 'naruto shipudeen', 'levi': 'attack on titan', 'Gojou': 'Jujutsu Kaisen', 'natsu': 'fairy_tail', 'Ryuzaki': 'death_note'}\n"
     ]
    }
   ],
   "source": [
    "#### updating with another dictionay\n",
    "d1={'saske':'naruto shipudeen','levi':'attack on titan','Gojou':'Jujutsu Kaisen'}\n",
    "\n",
    "d2={'saske':'team_7','levi':'survey_corps'}\n",
    "\n",
    "d1.update(d2)\n",
    "print(d1)\n",
    "\n",
    "#with iterable\n",
    "d2={'saske':'naruto shipudeen','levi':'attack on titan','Gojou':'Jujutsu Kaisen'}\n",
    "\n",
    "d2.update([('natsu','fairy_tail'),('Ryuzaki','death_note')])\n",
    "\n",
    "print(d2)"
   ]
  },
  {
   "cell_type": "markdown",
   "id": "3a813679",
   "metadata": {},
   "source": [
    "#### items()\n",
    "\n",
    ">returns all key and value in tuple"
   ]
  },
  {
   "cell_type": "code",
   "execution_count": 48,
   "id": "40fd1a3d",
   "metadata": {},
   "outputs": [
    {
     "name": "stdout",
     "output_type": "stream",
     "text": [
      "dict_items([('saske', 'naruto shipudeen'), ('levi', 'attack on titan'), ('Gojou', 'Jujutsu Kaisen')])\n"
     ]
    }
   ],
   "source": [
    "d1={'saske':'naruto shipudeen','levi':'attack on titan','Gojou':'Jujutsu Kaisen'}\n",
    "\n",
    "print(d1.items())"
   ]
  },
  {
   "cell_type": "markdown",
   "id": "d3e1e253",
   "metadata": {},
   "source": [
    "#### pop()\n",
    "\n",
    ">removes element from dictionary and also gives removed element\n"
   ]
  },
  {
   "cell_type": "code",
   "execution_count": 49,
   "id": "c54de419",
   "metadata": {},
   "outputs": [
    {
     "name": "stdout",
     "output_type": "stream",
     "text": [
      "removed value associated with key is Jujutsu Kaisen\n",
      "{'saske': 'naruto shipudeen', 'levi': 'attack on titan'}\n"
     ]
    }
   ],
   "source": [
    "d1={'saske':'naruto shipudeen','levi':'attack on titan','Gojou':'Jujutsu Kaisen'}\n",
    "\n",
    "remove=d1.pop('Gojou')\n",
    "\n",
    "print(f'removed value associated with key is {remove}')\n",
    "\n",
    "print(d1)"
   ]
  },
  {
   "cell_type": "markdown",
   "id": "3be9f1cd",
   "metadata": {},
   "source": [
    "#### popitem()\n",
    "\n",
    ">removes last element and gives removed key & value in tuple\n"
   ]
  },
  {
   "cell_type": "code",
   "execution_count": 55,
   "id": "add09a56",
   "metadata": {},
   "outputs": [
    {
     "name": "stdout",
     "output_type": "stream",
     "text": [
      "removed pair is ('Gojou', 'Jujutsu Kaisen')\n",
      "{'saske': 'naruto shipudeen', 'levi': 'attack on titan'}\n"
     ]
    }
   ],
   "source": [
    "d1={'saske':'naruto shipudeen','levi':'attack on titan','Gojou':'Jujutsu Kaisen'}\n",
    "\n",
    "remove=d1.popitem()\n",
    "\n",
    "print(f'removed pair is {remove}')\n",
    "\n",
    "print(d1)"
   ]
  },
  {
   "cell_type": "markdown",
   "id": "c63fdb42",
   "metadata": {},
   "source": [
    "## Dictionary Comprehensions\n",
    "\n",
    ">A dictionary comprehension takes the form {key: value for (key, value) in iterable}"
   ]
  },
  {
   "cell_type": "code",
   "execution_count": null,
   "id": "e9f074f6",
   "metadata": {},
   "outputs": [],
   "source": [
    "# comprehension\n",
    "  \n",
    "# Lists to represent keys and values\n",
    "keys = ['a','b','c','d','e']\n",
    "values = [1,2,3,4,5]  \n",
    "\n",
    "#use of zip\n",
    "l=list(zip(keys,values))\n",
    "print(l)\n",
    "   \n",
    "d = { k:v for (k,v) in zip(keys, values)}  \n",
    "  \n",
    "# We can use below too\n",
    "# d = dict(zip(keys, values))  \n",
    "  \n",
    "print (d)"
   ]
  },
  {
   "cell_type": "code",
   "execution_count": 43,
   "id": "f61b75a3",
   "metadata": {},
   "outputs": [
    {
     "name": "stdout",
     "output_type": "stream",
     "text": [
      "{1: 1, 2: 4, 3: 9, 4: 16, 5: 25}\n"
     ]
    }
   ],
   "source": [
    "# creation using list comprehension\n",
    "myDict = {x: x**2 for x in [1,2,3,4,5]}\n",
    "print (myDict)"
   ]
  },
  {
   "cell_type": "code",
   "execution_count": 42,
   "id": "c85c3010",
   "metadata": {},
   "outputs": [
    {
     "name": "stdout",
     "output_type": "stream",
     "text": [
      "{'C': 'ccc', 'O': 'ooo', 'D': 'ddd', 'I': 'iii', 'N': 'nnn', 'G': 'ggg', ' ': '   '}\n"
     ]
    }
   ],
   "source": [
    "# printing char 3 times\n",
    "sDict = {x.upper(): x*3 for x in 'coding '}\n",
    "print (sDict)\n"
   ]
  },
  {
   "cell_type": "code",
   "execution_count": 44,
   "id": "2f161274",
   "metadata": {},
   "outputs": [
    {
     "name": "stdout",
     "output_type": "stream",
     "text": [
      "{0: 0, 2: 8, 4: 64, 6: 216, 8: 512}\n"
     ]
    }
   ],
   "source": [
    "# Python code to demonstrate dictionary\n",
    "# comprehension using if.\n",
    "newdict = {x: x**3 for x in range(10) if x**3 % 4 == 0}\n",
    "print(newdict)\n"
   ]
  },
  {
   "cell_type": "markdown",
   "id": "f434c0eb",
   "metadata": {},
   "source": [
    "## SETS\n",
    "\n",
    ">a=set{'a','b'}\n",
    "\n",
    ">To create sets just add set before iterable\n",
    "\n",
    "\n"
   ]
  },
  {
   "cell_type": "code",
   "execution_count": 2,
   "id": "27052b61",
   "metadata": {},
   "outputs": [
    {
     "name": "stdout",
     "output_type": "stream",
     "text": [
      "{1, 2, 3}\n"
     ]
    }
   ],
   "source": [
    "a=set([1,2,3])\n",
    "print(a)"
   ]
  },
  {
   "cell_type": "code",
   "execution_count": 5,
   "id": "0c4af14d",
   "metadata": {},
   "outputs": [
    {
     "name": "stdout",
     "output_type": "stream",
     "text": [
      "{'c', 'b', 'a'}\n",
      "{0, 1, 2, 3, 4, 'a', 'b', 'c'}\n"
     ]
    }
   ],
   "source": [
    "# adding element to set\n",
    "\n",
    "a={'a','b'}\n",
    "a.add('c')\n",
    "print(a)\n",
    "\n",
    "# you can add values with for loop also\n",
    "\n",
    "for i in range(5):\n",
    "    a.add(i)\n",
    "print(a)"
   ]
  },
  {
   "cell_type": "markdown",
   "id": "bd12a14c",
   "metadata": {},
   "source": [
    "### Frozen sets\n",
    "\n",
    ">frozen sets are immutable sets\n",
    "\n",
    ">You can't add or change value in frozen sets"
   ]
  },
  {
   "cell_type": "code",
   "execution_count": 3,
   "id": "3d46b57c",
   "metadata": {},
   "outputs": [
    {
     "name": "stdout",
     "output_type": "stream",
     "text": [
      "frozenset({1, 2, 3})\n"
     ]
    },
    {
     "ename": "AttributeError",
     "evalue": "'frozenset' object has no attribute 'add'",
     "output_type": "error",
     "traceback": [
      "\u001b[1;31m---------------------------------------------------------------------------\u001b[0m",
      "\u001b[1;31mAttributeError\u001b[0m                            Traceback (most recent call last)",
      "\u001b[1;32m<ipython-input-3-503e4c56eef3>\u001b[0m in \u001b[0;36m<module>\u001b[1;34m\u001b[0m\n\u001b[0;32m      1\u001b[0m \u001b[0ma\u001b[0m\u001b[1;33m=\u001b[0m\u001b[0mfrozenset\u001b[0m\u001b[1;33m(\u001b[0m\u001b[1;33m[\u001b[0m\u001b[1;36m1\u001b[0m\u001b[1;33m,\u001b[0m\u001b[1;36m2\u001b[0m\u001b[1;33m,\u001b[0m\u001b[1;36m3\u001b[0m\u001b[1;33m]\u001b[0m\u001b[1;33m)\u001b[0m\u001b[1;33m\u001b[0m\u001b[1;33m\u001b[0m\u001b[0m\n\u001b[0;32m      2\u001b[0m \u001b[0mprint\u001b[0m\u001b[1;33m(\u001b[0m\u001b[0ma\u001b[0m\u001b[1;33m)\u001b[0m\u001b[1;33m\u001b[0m\u001b[1;33m\u001b[0m\u001b[0m\n\u001b[1;32m----> 3\u001b[1;33m \u001b[0ma\u001b[0m\u001b[1;33m.\u001b[0m\u001b[0madd\u001b[0m\u001b[1;33m(\u001b[0m\u001b[1;36m4\u001b[0m\u001b[1;33m)\u001b[0m\u001b[1;33m\u001b[0m\u001b[1;33m\u001b[0m\u001b[0m\n\u001b[0m\u001b[0;32m      4\u001b[0m \u001b[1;31m#this will give error\u001b[0m\u001b[1;33m\u001b[0m\u001b[1;33m\u001b[0m\u001b[1;33m\u001b[0m\u001b[0m\n",
      "\u001b[1;31mAttributeError\u001b[0m: 'frozenset' object has no attribute 'add'"
     ]
    }
   ],
   "source": [
    "a=frozenset([1,2,3])\n",
    "print(a)\n",
    "a.add(4)\n",
    "#this will give error"
   ]
  },
  {
   "cell_type": "markdown",
   "id": "c3ff9977",
   "metadata": {},
   "source": [
    "### Union\n",
    "\n",
    ">Two sets can be merge together with union or | operator"
   ]
  },
  {
   "cell_type": "code",
   "execution_count": 7,
   "id": "7e682517",
   "metadata": {},
   "outputs": [
    {
     "name": "stdout",
     "output_type": "stream",
     "text": [
      "{1, 3, 7, 23, 56, 45}\n",
      "{1, 3, 7, 23, 56, 45}\n"
     ]
    }
   ],
   "source": [
    "a={1,23,3}\n",
    "b={56,45,7}\n",
    "print(a.union(b))\n",
    "print(a|b)"
   ]
  },
  {
   "cell_type": "markdown",
   "id": "f720c911",
   "metadata": {},
   "source": [
    "### Intersection\n",
    "\n",
    ">Same only elements from both sets will be added\n",
    "\n",
    ">Intersection can be done intersection() or & operator"
   ]
  },
  {
   "cell_type": "code",
   "execution_count": 10,
   "id": "bc5d3de0",
   "metadata": {},
   "outputs": [
    {
     "name": "stdout",
     "output_type": "stream",
     "text": [
      "{3, 4}\n",
      "{3, 4}\n"
     ]
    }
   ],
   "source": [
    "a=set()\n",
    "b=set()\n",
    "for i in range(5):\n",
    "    a.add(i)\n",
    "for j in range(3,9):\n",
    "    b.add(j)\n",
    "print(a.intersection(b))\n",
    "print(a&b)"
   ]
  },
  {
   "cell_type": "markdown",
   "id": "c857960d",
   "metadata": {},
   "source": [
    "### Difference\n",
    "\n",
    ">Non common elements will be added\n",
    "\n",
    ">this can be done by differnce() or - operator"
   ]
  },
  {
   "cell_type": "code",
   "execution_count": 14,
   "id": "05a36ac1",
   "metadata": {},
   "outputs": [
    {
     "name": "stdout",
     "output_type": "stream",
     "text": [
      "{0, 1, 2, 3}\n",
      "{0, 1, 2, 3}\n"
     ]
    }
   ],
   "source": [
    "a=set()\n",
    "b=set()\n",
    "for i in range(6):\n",
    "    a.add(i)\n",
    "for j in range(4,9):\n",
    "    b.add(j)\n",
    "print(a.difference(b))\n",
    "print(a-b)"
   ]
  },
  {
   "cell_type": "markdown",
   "id": "4ae566e5",
   "metadata": {},
   "source": [
    "### clear()\n",
    "\n",
    ">this will clear whole set"
   ]
  },
  {
   "cell_type": "code",
   "execution_count": 15,
   "id": "5787ef63",
   "metadata": {},
   "outputs": [
    {
     "name": "stdout",
     "output_type": "stream",
     "text": [
      "set()\n"
     ]
    }
   ],
   "source": [
    "a={1,2,3}\n",
    "a.clear()\n",
    "print(a)"
   ]
  },
  {
   "cell_type": "markdown",
   "id": "69dc64a6",
   "metadata": {},
   "source": []
  },
  {
   "cell_type": "markdown",
   "id": "a6895ec9",
   "metadata": {},
   "source": [
    "## Tuple()\n",
    "\n",
    "### Creating tuple\n",
    "\n",
    ">tp=1,2--print(tp) or tp=(1,2)--print(tp)\n",
    "\n",
    "###tuple() function\n",
    "\n",
    ">You can change list or dict types to tuple with tuple function(show example)\n",
    "\n",
    "### Concatenating 2 tuples\n",
    "\n",
    ">tp1=(1,2,3)\n",
    "\n",
    ">tp2=('saske','naruto')\n",
    "\n",
    ">tp3=(tp1+tp2)\n",
    "\n",
    "### Nesting tuples\n",
    "\n",
    ">(tp1,tp2)\n",
    "\n",
    "### Creating repeating tuples\n",
    "\n",
    ">tp=(1,2,3)*2\n",
    "\n",
    ">output=(1,2,3,1,2,3)\n",
    "\n",
    "\n",
    ">Tuples are immutable meaning you can't change tuple elements after they created(tp[0]=1 not allowed)\n",
    "\n",
    ">Slicing is allowed\n",
    "\n",
    ">You can use for loop to access the element\n",
    "\n",
    "### Tuple attributes\n",
    "\n",
    ">max--max(tp) will give maximum value\n",
    "\n",
    ">min--min(tp) will give minimum value\n",
    "\n",
    ">sum--sum(tp) will give sum of tuple\n",
    "\n",
    ">tp[::-1] will reverse the tuple"
   ]
  },
  {
   "cell_type": "markdown",
   "id": "42b2cad2",
   "metadata": {},
   "source": [
    "## User defined functions\n",
    "\n",
    "\n",
    "> To write function start with def\n",
    "    \n",
    ">You need to call a function to access it's functionality\n",
    "\n",
    ">A function may take arguments or may run without arguments\n",
    "\n",
    ">You can return a value from function or print desired output in it\n",
    "\n",
    "### Docstrings\n",
    "\n",
    "> A first line which has comment in it\n",
    "\n",
    ">If comment is present other than 1st line doc will return none\n",
    "\n",
    ">to access it use print(func_name.__doc__)"
   ]
  },
  {
   "cell_type": "code",
   "execution_count": null,
   "id": "537b1867",
   "metadata": {},
   "outputs": [],
   "source": [
    "# Function examples\n",
    "1 without taking arguments\n",
    "def func():\n",
    "    print('This is function')\n",
    "    \n",
    "func()\n",
    "\n"
   ]
  },
  {
   "cell_type": "code",
   "execution_count": null,
   "id": "f775d96f",
   "metadata": {},
   "outputs": [],
   "source": [
    "#2 Taking arguments\n",
    "def func(a,b):\n",
    "    avg=(a+b/2)\n",
    "    print(avg)\n",
    "\n",
    "func(2,3)\n",
    "\n"
   ]
  },
  {
   "cell_type": "code",
   "execution_count": null,
   "id": "002d8a2b",
   "metadata": {},
   "outputs": [],
   "source": [
    "#3 Returning value from function\n",
    "\n",
    "def func(a,b):\n",
    "    avg=(a+b)/2\n",
    "    return avg\n",
    "\n",
    "print(func(3,5))\n",
    "\n"
   ]
  },
  {
   "cell_type": "code",
   "execution_count": null,
   "id": "7630cf32",
   "metadata": {},
   "outputs": [],
   "source": [
    "# QUIZ\n",
    "def func(a,b):\n",
    "    avg=(a+b)/2\n",
    "    print(avg)\n",
    "    \n",
    "\n",
    "print(func(3,5))\n",
    "\n"
   ]
  },
  {
   "cell_type": "code",
   "execution_count": null,
   "id": "196a8ac6",
   "metadata": {},
   "outputs": [],
   "source": [
    "#Docstring example\n",
    "\n",
    "def func():\n",
    "    \"\"\"This functions prints\"\"\"\n",
    "    print('You should definitely watch attack on titans')\n",
    "    \n",
    "print(func.__doc__)"
   ]
  },
  {
   "cell_type": "markdown",
   "id": "d2bff9cc",
   "metadata": {},
   "source": [
    "### Lambda function:\n",
    "\n",
    ">It is an alternative to the user defined functions\n",
    "\n",
    ">It can take lot of arguments but returns only one expression\n",
    "\n",
    ">lambda arguments:expression\n",
    "\n",
    ">E.g. lambda x:x*x returns number square\n"
   ]
  },
  {
   "cell_type": "code",
   "execution_count": 14,
   "id": "c1e395b5",
   "metadata": {},
   "outputs": [
    {
     "name": "stdout",
     "output_type": "stream",
     "text": [
      "2\n"
     ]
    }
   ],
   "source": [
    "#1.How to write lambda function\n",
    "\n",
    "# def square(x):#Usual function\n",
    "#     return x*x\n",
    "\n",
    "# print(square(5))\n",
    "\n",
    "# square=lambda x:x*x  #lambda function taking 1 argument\n",
    "# print(square(5))\n",
    "\n"
   ]
  },
  {
   "cell_type": "code",
   "execution_count": null,
   "id": "ed37f12c",
   "metadata": {},
   "outputs": [],
   "source": [
    "#2. Lambda function taking multiple arguments\n",
    "\n",
    "# a=lambda x,y,z:x+y+z\n",
    "# print(a(1,2,3))\n",
    "\n"
   ]
  },
  {
   "cell_type": "code",
   "execution_count": null,
   "id": "25110d17",
   "metadata": {},
   "outputs": [],
   "source": [
    "#3. Lambda function can't return more than one expression\n",
    "\n",
    "# a=lambda x:x*x,x\n",
    "# print(a(2))\n",
    "\n",
    "\n"
   ]
  },
  {
   "cell_type": "code",
   "execution_count": null,
   "id": "dbc13adf",
   "metadata": {},
   "outputs": [],
   "source": [
    "#4. Returning values from list\n",
    "\n",
    "l=[1,2,3]\n",
    "results=lambda a:a[1]\n",
    "print(results(l))\n",
    "\n",
    "#Similarly you can use slicing in strings to return specific values\n",
    "\n"
   ]
  },
  {
   "cell_type": "code",
   "execution_count": 58,
   "id": "04ea611a",
   "metadata": {},
   "outputs": [
    {
     "name": "stdout",
     "output_type": "stream",
     "text": [
      "saske\n"
     ]
    }
   ],
   "source": [
    "# # 5.QUIZ- Is it possible to write lambda function without any arguments like given??How??\n",
    "\n",
    "# def func():\n",
    "#     print('saske')\n",
    "    \n",
    "# func()"
   ]
  },
  {
   "cell_type": "markdown",
   "id": "326e7bd7",
   "metadata": {},
   "source": [
    "### Map()\n",
    "\n",
    ">Map function applies the function to each item in iterable(list,tuple)\n",
    "\n",
    ">map(function,iterable)\n",
    "\n",
    ">Add iterable name in front of map to get results in that iterbale form\n",
    "\n",
    ">On the place of function we can write data types,iterable,functions also"
   ]
  },
  {
   "cell_type": "code",
   "execution_count": 16,
   "id": "7afa88a6",
   "metadata": {},
   "outputs": [
    {
     "name": "stdout",
     "output_type": "stream",
     "text": [
      "[1, 4, 9, 16]\n"
     ]
    }
   ],
   "source": [
    "\n",
    "# Python program to demonstrate working of map.\n",
    "  # Return square of n\n",
    "def addition(n):\n",
    "    return n * n\n",
    "  \n",
    "# We double all numbers using map()\n",
    "numbers = (1, 2, 3, 4)\n",
    "result = map(addition, numbers)\n",
    "print(list(result))"
   ]
  },
  {
   "cell_type": "code",
   "execution_count": 19,
   "id": "95da0e79",
   "metadata": {},
   "outputs": [
    {
     "name": "stdout",
     "output_type": "stream",
     "text": [
      "(1, 4, 9, 16)\n"
     ]
    }
   ],
   "source": [
    "# Same above thing can be written as\n",
    "numbers=(1,2,3,4)\n",
    "l=list(map(lambda x:x*x,numbers))\n",
    "print(l)"
   ]
  },
  {
   "cell_type": "code",
   "execution_count": 19,
   "id": "a9b4b407",
   "metadata": {},
   "outputs": [
    {
     "name": "stdout",
     "output_type": "stream",
     "text": [
      "[0, 0]\n",
      "[1, 1]\n",
      "[4, 8]\n",
      "[9, 27]\n",
      "[16, 64]\n"
     ]
    }
   ],
   "source": [
    "# applying multiple functions \n",
    "def square(a):\n",
    "    return a*a\n",
    "\n",
    "def cube(a):\n",
    "    return a*a*a\n",
    "\n",
    "l=[square,cube]\n",
    "for i in range(5):\n",
    "    l1=list(map(lambda x:x(i),l))\n",
    "    print(l1)"
   ]
  },
  {
   "cell_type": "code",
   "execution_count": 3,
   "id": "bc2f5de8",
   "metadata": {},
   "outputs": [
    {
     "name": "stdout",
     "output_type": "stream",
     "text": [
      "<class 'int'>\n"
     ]
    }
   ],
   "source": [
    "# Changing data type of list elements\n",
    "\n",
    "l=['21','231','321']\n",
    "l1=list(map(int,l))\n",
    "print(type(l1[0]))"
   ]
  },
  {
   "cell_type": "code",
   "execution_count": 14,
   "id": "8619e51f",
   "metadata": {},
   "outputs": [
    {
     "name": "stdout",
     "output_type": "stream",
     "text": [
      "{('l', 'e', 'v', 'i'), ('n', 'a', 'r', 'u', 't', 'o'), ('s', 'a', 's', 'k', 'e')}\n"
     ]
    }
   ],
   "source": [
    "# Changing iterable type\n",
    "l=['saske','levi','naruto']\n",
    "l1=set(map(tuple,l))\n",
    "print(l1)"
   ]
  },
  {
   "cell_type": "code",
   "execution_count": 15,
   "id": "13e3bc92",
   "metadata": {},
   "outputs": [
    {
     "name": "stdout",
     "output_type": "stream",
     "text": [
      "[5, 7, 9]\n",
      "[5, 7, 9]\n"
     ]
    }
   ],
   "source": [
    "# Add two lists using map and lambda\n",
    "  \n",
    "numbers1 = [1, 2, 3]\n",
    "numbers2 = [4, 5, 6]\n",
    "  \n",
    "print(list(map(lambda x,y:x+y,numbers1,numbers2)))\n",
    "\n",
    "#Usual way\n",
    "l=[]\n",
    "for i in range(len(numbers1)):\n",
    "    l.append(numbers1[i]+numbers2[i])\n",
    "print(l)"
   ]
  },
  {
   "cell_type": "markdown",
   "id": "8c283f9f",
   "metadata": {},
   "source": [
    "## Filter function\n",
    "\n",
    ">It will apply the filter to the whole iterable\n",
    "\n",
    ">filter(function,iterable)"
   ]
  },
  {
   "cell_type": "code",
   "execution_count": 28,
   "id": "f4312da6",
   "metadata": {},
   "outputs": [
    {
     "name": "stdout",
     "output_type": "stream",
     "text": [
      "[2, 8]\n"
     ]
    }
   ],
   "source": [
    "\n",
    "# a list contains both even and odd numbers. \n",
    "seq = [0, 1, 2, 3, 5, 8, 13]\n",
    "  \n",
    "# # result contains odd numbers of the list\n",
    "# result = filter(lambda x: x % 2 != 0, seq)\n",
    "# print(list(result))\n",
    "\n",
    "# def odd(x):#usual way\n",
    "#     l=[]\n",
    "#     for i in x:\n",
    "#         if i%2!=0:\n",
    "#             l.append(i)\n",
    "#     return l\n",
    "# print(odd(seq))\n",
    "  \n"
   ]
  },
  {
   "cell_type": "code",
   "execution_count": null,
   "id": "0700ac2b",
   "metadata": {},
   "outputs": [],
   "source": [
    "# # result contains even numbers of the list\n",
    "def even(x):\n",
    "    if x%2 ==0:\n",
    "        return x\n",
    "    \n",
    "result = filter(even, seq)\n",
    "print(list(result))\n",
    "\n"
   ]
  },
  {
   "cell_type": "code",
   "execution_count": 60,
   "id": "15b7f4e5",
   "metadata": {},
   "outputs": [
    {
     "name": "stdout",
     "output_type": "stream",
     "text": [
      "[8, 13]\n"
     ]
    }
   ],
   "source": [
    "#result contains number greater than 5\n",
    "seq = [0, 1, 2, 3, 5, 8, 13]\n",
    "\n",
    "result=list(filter(lambda x:x>5,seq))\n",
    "print(result)"
   ]
  },
  {
   "cell_type": "markdown",
   "id": "e35ecfa4",
   "metadata": {},
   "source": [
    "## Recursion\n",
    "\n",
    ">In simple words recursion can be called as function calling itself"
   ]
  },
  {
   "cell_type": "code",
   "execution_count": 30,
   "id": "68dcf17f",
   "metadata": {},
   "outputs": [],
   "source": [
    "def factorial():\n",
    "    factorial()\n",
    "    #here function is calling itself\n",
    "    "
   ]
  },
  {
   "cell_type": "code",
   "execution_count": 1,
   "id": "5c9db140",
   "metadata": {},
   "outputs": [
    {
     "name": "stdout",
     "output_type": "stream",
     "text": [
      "100\n",
      "99\n",
      "98\n",
      "97\n",
      "96\n",
      "95\n",
      "94\n",
      "93\n",
      "92\n",
      "91\n",
      "90\n",
      "89\n",
      "88\n",
      "87\n",
      "86\n",
      "85\n",
      "84\n",
      "83\n",
      "82\n",
      "81\n",
      "80\n",
      "79\n",
      "78\n",
      "77\n",
      "76\n",
      "75\n",
      "74\n",
      "73\n",
      "72\n",
      "71\n",
      "70\n",
      "69\n",
      "68\n",
      "67\n",
      "66\n",
      "65\n",
      "64\n",
      "63\n",
      "62\n",
      "61\n",
      "60\n",
      "59\n",
      "58\n",
      "57\n",
      "56\n",
      "55\n",
      "54\n",
      "53\n",
      "52\n",
      "51\n",
      "50\n",
      "49\n",
      "48\n",
      "47\n",
      "46\n",
      "45\n",
      "44\n",
      "43\n",
      "42\n",
      "41\n",
      "40\n",
      "39\n",
      "38\n",
      "37\n",
      "36\n",
      "35\n",
      "34\n",
      "33\n",
      "32\n",
      "31\n",
      "30\n",
      "29\n",
      "28\n",
      "27\n",
      "26\n",
      "25\n",
      "24\n",
      "23\n",
      "22\n",
      "21\n",
      "20\n",
      "19\n",
      "18\n",
      "17\n",
      "16\n",
      "15\n",
      "14\n",
      "13\n",
      "12\n",
      "11\n",
      "10\n",
      "9\n",
      "8\n",
      "7\n",
      "6\n",
      "5\n",
      "4\n",
      "3\n",
      "2\n",
      "1\n"
     ]
    }
   ],
   "source": [
    "#Example, what if ask you to print 1-100 numbers without using loops and not even typing manually\n",
    "\n",
    "def prt(x):\n",
    "    if x>0:\n",
    "        print(x)\n",
    "        prt(x-1)\n",
    "\n",
    "prt(100)"
   ]
  },
  {
   "cell_type": "code",
   "execution_count": null,
   "id": "55362c17",
   "metadata": {},
   "outputs": [],
   "source": [
    "# WARNING don't forget to add condition to end recursion otehrwise it will kepp running until depth approaches\n",
    "\n",
    "def prt(x):\n",
    "    if x>0:\n",
    "        print(x)\n",
    "        prt(x)\n",
    "\n",
    "prt(100)"
   ]
  },
  {
   "cell_type": "markdown",
   "id": "afe8c5c2",
   "metadata": {},
   "source": [
    "#### Factorial Example\n",
    "\n",
    ">Write a program to calculate factorial\n",
    "\n",
    ">Now we know, 4! =4* 3* 2* 1 = 4*  (3!)\n",
    "\n",
    ">Hence we can interpret it as n*(n-1)!\n"
   ]
  },
  {
   "cell_type": "code",
   "execution_count": 3,
   "id": "ed5f7c03",
   "metadata": {},
   "outputs": [
    {
     "name": "stdout",
     "output_type": "stream",
     "text": [
      "120\n"
     ]
    }
   ],
   "source": [
    "def factorial(n):\n",
    "    if (n==0 or n==1):\n",
    "        return 1  #0! and 1! =1\n",
    "    else:\n",
    "        return factorial(n-1)*n\n",
    "    \n",
    "print(factorial(5))"
   ]
  },
  {
   "cell_type": "markdown",
   "id": "505372b6",
   "metadata": {},
   "source": [
    "#### Fibonacci series\n",
    "\n",
    ">0,1,1,2,3,5,8,13\n",
    "\n",
    ">number is the sum of it's previous and it's 2nd previous number\n",
    "\n",
    ">n=(n-1)+(n-2)"
   ]
  },
  {
   "cell_type": "code",
   "execution_count": 14,
   "id": "2fde5d81",
   "metadata": {},
   "outputs": [
    {
     "name": "stdout",
     "output_type": "stream",
     "text": [
      "0\n",
      "1\n",
      "1\n",
      "2\n",
      "3\n",
      "5\n"
     ]
    }
   ],
   "source": [
    "# def fib(n):\n",
    "#     if (n==1):\n",
    "#         return 0\n",
    "#     elif(n==2):\n",
    "#         return 1\n",
    "#     else:\n",
    "#         return fib(n-1)+fib(n-2)\n",
    "    \n",
    "# print(fib(6))\n",
    "\n",
    "# to print fib series\n",
    "\n",
    "def fib(n):\n",
    "    count=0\n",
    "    n1=0\n",
    "    n2=1\n",
    "    if n<=0:print('error')\n",
    "    elif(n==1):print(n1)\n",
    "    else:\n",
    "        while count<n:\n",
    "            print(n1)\n",
    "            nth=n1+n2\n",
    "            n1=n2\n",
    "            n2=nth\n",
    "            count+=1\n",
    "            \n",
    "fib(6)"
   ]
  },
  {
   "cell_type": "code",
   "execution_count": 16,
   "id": "125d7300",
   "metadata": {},
   "outputs": [
    {
     "name": "stdout",
     "output_type": "stream",
     "text": [
      "10\n"
     ]
    }
   ],
   "source": [
    "#### Finding sum upto n natural number\n",
    "\n",
    "def sm(n):\n",
    "    if n==1: return 1\n",
    "    else: return sm(n-1)+n\n",
    "    \n",
    "print(sm(4))"
   ]
  },
  {
   "cell_type": "markdown",
   "id": "540aec9b",
   "metadata": {},
   "source": [
    "# Modules\n",
    "\n",
    ">Python has built in modules and also external module(https://docs.python.org/3/py-modindex.html)\n",
    "\n",
    ">To import module in program use import module name\n",
    "\n",
    ">if module is not built in then use (pip install module name) \n",
    "\n",
    ">importing modules all functionality\n",
    "\n",
    ">some built in modules are datetime,math,random etc\n",
    "\n",
    ">No need to remember all of them"
   ]
  },
  {
   "cell_type": "code",
   "execution_count": 19,
   "id": "7ed09065",
   "metadata": {},
   "outputs": [],
   "source": [
    "from math import *\n"
   ]
  },
  {
   "cell_type": "code",
   "execution_count": 21,
   "id": "b871a98c",
   "metadata": {},
   "outputs": [
    {
     "name": "stdout",
     "output_type": "stream",
     "text": [
      "2021-06-11 17:50:56.505553\n"
     ]
    }
   ],
   "source": [
    "from datetime import datetime # importing specific from modules\n",
    "\n",
    "print(datetime.now())"
   ]
  },
  {
   "cell_type": "code",
   "execution_count": 22,
   "id": "a83b40f3",
   "metadata": {},
   "outputs": [
    {
     "name": "stdout",
     "output_type": "stream",
     "text": [
      "1.1503852754269794\n"
     ]
    }
   ],
   "source": [
    "import random as rd # giving alias to module name\n",
    "a=rd.uniform(1,5)\n",
    "print(a)"
   ]
  },
  {
   "cell_type": "markdown",
   "id": "5644ae73",
   "metadata": {},
   "source": [
    "## Dir() function\n",
    "\n",
    ">dir(module name) gives all of its functionality name"
   ]
  },
  {
   "cell_type": "code",
   "execution_count": 27,
   "id": "bce73f46",
   "metadata": {},
   "outputs": [
    {
     "data": {
      "text/plain": [
       "['MAXYEAR',\n",
       " 'MINYEAR',\n",
       " '__all__',\n",
       " '__builtins__',\n",
       " '__cached__',\n",
       " '__doc__',\n",
       " '__file__',\n",
       " '__loader__',\n",
       " '__name__',\n",
       " '__package__',\n",
       " '__spec__',\n",
       " 'date',\n",
       " 'datetime',\n",
       " 'datetime_CAPI',\n",
       " 'sys',\n",
       " 'time',\n",
       " 'timedelta',\n",
       " 'timezone',\n",
       " 'tzinfo']"
      ]
     },
     "execution_count": 27,
     "metadata": {},
     "output_type": "execute_result"
    }
   ],
   "source": [
    "import datetime\n",
    "dir(datetime)"
   ]
  },
  {
   "cell_type": "markdown",
   "id": "44fb6883",
   "metadata": {},
   "source": [
    "## help()\n",
    "\n",
    ">it gives the documentation of module"
   ]
  },
  {
   "cell_type": "code",
   "execution_count": 61,
   "id": "76bc6c0b",
   "metadata": {},
   "outputs": [
    {
     "name": "stdout",
     "output_type": "stream",
     "text": [
      "Help on built-in function print in module builtins:\n",
      "\n",
      "print(...)\n",
      "    print(value, ..., sep=' ', end='\\n', file=sys.stdout, flush=False)\n",
      "    \n",
      "    Prints the values to a stream, or to sys.stdout by default.\n",
      "    Optional keyword arguments:\n",
      "    file:  a file-like object (stream); defaults to the current sys.stdout.\n",
      "    sep:   string inserted between values, default a space.\n",
      "    end:   string appended after the last value, default a newline.\n",
      "    flush: whether to forcibly flush the stream.\n",
      "\n"
     ]
    }
   ],
   "source": [
    "help(print)"
   ]
  },
  {
   "cell_type": "markdown",
   "id": "813a71b9",
   "metadata": {},
   "source": [
    "## FILE I/O\n",
    "\n",
    ">\"r\"-read mode--default mode\n",
    "\n",
    ">\"w\"-write mode\n",
    "\n",
    ">\"a\"-append mode\n",
    "\n",
    ">\"b\"-binary mode--to convert file in audio fotmat this mode is helpful\n",
    "\n",
    ">\"t\"-text mode\n",
    "\n",
    ">\"+\"-read and write both mode\n",
    "\n",
    "### writing in file\n",
    "\n",
    ">f=open('file name','w')\n",
    "\n",
    ">f.write(content)\n",
    "\n",
    ">But remember every time you will write,old text will be overwrite"
   ]
  },
  {
   "cell_type": "code",
   "execution_count": 50,
   "id": "437d335e",
   "metadata": {},
   "outputs": [],
   "source": [
    "f=open('saske','w')\n",
    "f.write('saske is good')\n",
    "f.close()\n",
    "\n",
    "f=open('saske','w')\n",
    "f.write('naruto is best')\n",
    "f.close()"
   ]
  },
  {
   "cell_type": "code",
   "execution_count": 51,
   "id": "ce2eb7ed",
   "metadata": {},
   "outputs": [
    {
     "name": "stdout",
     "output_type": "stream",
     "text": [
      "naruto is best\n"
     ]
    }
   ],
   "source": [
    "### reading file\n",
    "f=open('saske')\n",
    "a=f.read()\n",
    "print(a)\n",
    "f.close()"
   ]
  },
  {
   "cell_type": "code",
   "execution_count": 53,
   "id": "1b17119d",
   "metadata": {},
   "outputs": [],
   "source": [
    "## with block\n",
    "\n",
    "with open('saske','a') as f:\n",
    "    f.write('saske has susano')\n",
    "  "
   ]
  },
  {
   "cell_type": "code",
   "execution_count": null,
   "id": "88790029",
   "metadata": {},
   "outputs": [],
   "source": [
    "### Handling csv\n",
    "\n",
    "import csv\n",
    "with open('filename.csv') as csv_file:\n",
    "    csv_read=csv.reader(csv_file, delimiter=',')"
   ]
  },
  {
   "cell_type": "code",
   "execution_count": 55,
   "id": "0441500e",
   "metadata": {},
   "outputs": [],
   "source": [
    "# GC_Task_Sheet_ratio_question\n",
    "\n",
    "# import csv\n",
    "\n",
    "# with open('GC_Task_Sheet_ratio_question.csv') as csv_file:\n",
    "#     a=csv_file.read()\n",
    "#     print(a)\n",
    "\n",
    "#using pandas\n",
    "import pandas as pd\n",
    "data = pd.read_csv('GC_Task_Sheet_ratio_question.csv')\n",
    "# print(data)\n",
    " "
   ]
  },
  {
   "cell_type": "code",
   "execution_count": null,
   "id": "4d326d0b",
   "metadata": {},
   "outputs": [],
   "source": [
    "### expoorting dataframe to csv\n",
    "\n",
    ">df.to_csv(r'Path where you want to store the exported CSV file\\File Name.csv', index = False)"
   ]
  },
  {
   "cell_type": "markdown",
   "id": "1215b8be",
   "metadata": {},
   "source": [
    "## Try-except\n"
   ]
  },
  {
   "cell_type": "code",
   "execution_count": 62,
   "id": "591c4f72",
   "metadata": {},
   "outputs": [
    {
     "name": "stdout",
     "output_type": "stream",
     "text": [
      "enter a numbera\n"
     ]
    },
    {
     "ename": "ValueError",
     "evalue": "invalid literal for int() with base 10: 'a'",
     "output_type": "error",
     "traceback": [
      "\u001b[1;31m---------------------------------------------------------------------------\u001b[0m",
      "\u001b[1;31mValueError\u001b[0m                                Traceback (most recent call last)",
      "\u001b[1;32m<ipython-input-62-52e51ef01b03>\u001b[0m in \u001b[0;36m<module>\u001b[1;34m\u001b[0m\n\u001b[0;32m      5\u001b[0m \u001b[1;31m#     print(e)\u001b[0m\u001b[1;33m\u001b[0m\u001b[1;33m\u001b[0m\u001b[1;33m\u001b[0m\u001b[0m\n\u001b[0;32m      6\u001b[0m \u001b[1;33m\u001b[0m\u001b[0m\n\u001b[1;32m----> 7\u001b[1;33m \u001b[0mi\u001b[0m\u001b[1;33m=\u001b[0m\u001b[0mint\u001b[0m\u001b[1;33m(\u001b[0m\u001b[0minput\u001b[0m\u001b[1;33m(\u001b[0m\u001b[1;34m'enter a number'\u001b[0m\u001b[1;33m)\u001b[0m\u001b[1;33m)\u001b[0m\u001b[1;33m\u001b[0m\u001b[1;33m\u001b[0m\u001b[0m\n\u001b[0m\u001b[0;32m      8\u001b[0m \u001b[0mprint\u001b[0m\u001b[1;33m(\u001b[0m\u001b[1;34m'I want this no matter what'\u001b[0m\u001b[1;33m)\u001b[0m\u001b[1;33m\u001b[0m\u001b[1;33m\u001b[0m\u001b[0m\n",
      "\u001b[1;31mValueError\u001b[0m: invalid literal for int() with base 10: 'a'"
     ]
    }
   ],
   "source": [
    "try:\n",
    "    i=int(input('enter a number'))\n",
    "\n",
    "except Exception as e:\n",
    "    print(e)\n",
    "\n",
    "# i=int(input('enter a number'))\n",
    "print('I want this no matter what')"
   ]
  },
  {
   "cell_type": "code",
   "execution_count": null,
   "id": "9bfb4a14",
   "metadata": {},
   "outputs": [],
   "source": []
  }
 ],
 "metadata": {
  "kernelspec": {
   "display_name": "Python 3",
   "language": "python",
   "name": "python3"
  },
  "language_info": {
   "codemirror_mode": {
    "name": "ipython",
    "version": 3
   },
   "file_extension": ".py",
   "mimetype": "text/x-python",
   "name": "python",
   "nbconvert_exporter": "python",
   "pygments_lexer": "ipython3",
   "version": "3.9.5"
  }
 },
 "nbformat": 4,
 "nbformat_minor": 5
}
